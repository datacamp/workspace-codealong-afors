{
 "cells": [
  {
   "cell_type": "markdown",
   "id": "bc0f1f83-2917-447c-b855-00290ad4c2d6",
   "metadata": {},
   "source": [
    "# Exploring Air Force personnel data"
   ]
  },
  {
   "cell_type": "markdown",
   "id": "cdcc9c8d-2c35-431b-965c-a9803713099f",
   "metadata": {},
   "source": [
    "In this code-along, we'll explore a US Department of Defense personnel demographics dataset. The publicly available dataset was taken [from data.gov](https://catalog.data.gov/dataset/personnel-trends-by-gender-race), and has been cleaned and tidied, so you can get straight into exploratory data analysis.\n",
    "\n",
    "The dataset contains counts of military personnel by gender, race, and paygrade. It was compiled in March 2010.\n",
    "\n",
    "We'll do the first few tasks together, then you can try some tasks yourself."
   ]
  },
  {
   "cell_type": "markdown",
   "id": "ca1f6228-e215-4cfb-a817-0e252a141b8d",
   "metadata": {},
   "source": [
    "## 1: Import the packages"
   ]
  },
  {
   "cell_type": "markdown",
   "id": "fdc570b8-5cad-4ad5-9aa4-34034e981509",
   "metadata": {},
   "source": [
    "Today, we'll be using `pandas` for data manipulation and calculations, and `plotly.express` for visualization."
   ]
  },
  {
   "cell_type": "markdown",
   "id": "e8d7d883-d522-4d20-b54e-e8eee386cb48",
   "metadata": {},
   "source": [
    "- Import the `pandas` package using the alias `pd`.\n",
    "- Import the `plotly.express` package using the alias `px`."
   ]
  },
  {
   "cell_type": "code",
   "execution_count": null,
   "id": "d0eb4f16-5a99-460d-a5ba-706b7ef0bbe7",
   "metadata": {
    "id": "bA5ajAmk7XH6"
   },
   "outputs": [],
   "source": [
    "# Import the pandas package\n",
    "\n",
    "\n",
    "# Import the plotly express package\n"
   ]
  },
  {
   "cell_type": "markdown",
   "id": "98c8aae6-e772-4627-b7bc-a00c123d9508",
   "metadata": {},
   "source": [
    "## 2: Read in the dataset"
   ]
  },
  {
   "cell_type": "markdown",
   "id": "743a4902-6ef9-4f58-a9d8-f1f2e97fcf6a",
   "metadata": {},
   "source": [
    "The demographics dataset is contained in a CSV file named `\"data/dod_demographics.csv\"`."
   ]
  },
  {
   "cell_type": "markdown",
   "id": "495d9fb3-eb04-477a-9c3e-44908b3ec1a2",
   "metadata": {},
   "source": [
    "- Use `pandas` to read this CSV file. Assign it to a variable named `dod_demographics`."
   ]
  },
  {
   "cell_type": "code",
   "execution_count": null,
   "id": "608a9502-3239-4c1f-967b-dfbfcd63e578",
   "metadata": {},
   "outputs": [],
   "source": [
    "# Import the demographic data from \"data/dod_demographics.csv\"\n",
    "dod_demographics = \n",
    "\n",
    "# See the result\n",
    "dod_demographics"
   ]
  },
  {
   "cell_type": "markdown",
   "id": "54c0b54a-6d89-429c-a62f-d8ffc84fb52d",
   "metadata": {},
   "source": [
    "The dataset has 6 columns.\n",
    "\n",
    "- **service**: Army, Navy, Marine Corps, Air Force, Coast Guard. (Space Force didn't exist when the dataset was compiled.)\n",
    "- **gender**: MALE or FEMALE.\n",
    "- **race**: AMI/ALN, ASIAN, BLACK, MULTI, P/I, WHITE, UNK.\n",
    "- **hispanicity**: HISP, NON-HISP.\n",
    "- **paygrade**: Enlisted grades E00 to E09, Warrant Officer greades W01 to W05, Officer grades O01 to O10.\n",
    "- **count**: number of personnel in that demographic."
   ]
  },
  {
   "cell_type": "markdown",
   "id": "9214f7e3-d553-4272-905e-4dfe25e4a0ff",
   "metadata": {},
   "source": [
    "## 3: Get the subset with the Air Force dataset"
   ]
  },
  {
   "cell_type": "markdown",
   "id": "dee37e56-d650-4f07-85ae-386f208efcbd",
   "metadata": {},
   "source": [
    "The dataset contains data for all the services, but we only want to analyze the Air Force data."
   ]
  },
  {
   "cell_type": "markdown",
   "id": "d439c38e-d02f-4b20-9426-d01cf3047149",
   "metadata": {},
   "source": [
    "- Query `dod_demographics` for rows where the `service` is equal to `\"Air Force\"`. Assign to `air_force`."
   ]
  },
  {
   "cell_type": "code",
   "execution_count": null,
   "id": "cca85b82-1d6e-4e03-8e71-4b1da4c1e3ea",
   "metadata": {},
   "outputs": [],
   "source": [
    "# Query dod_demographics for rows in the \"Air Force\" service\n",
    "air_force = \n",
    "\n",
    "# See the results\n",
    "air_force"
   ]
  },
  {
   "cell_type": "markdown",
   "id": "e1d12fbb-6fb9-4cf8-8388-1c74ea6634b0",
   "metadata": {},
   "source": [
    "## 4: Start exploring! How much data do we have?"
   ]
  },
  {
   "cell_type": "markdown",
   "id": "78626c71-adf9-4edc-b527-3ecb72d84284",
   "metadata": {},
   "source": [
    "We're ready to start asking some questions about the dataset. A good way to start exploring data is to ask how much data you have for different groups. Let's calculate the personnel count by gender."
   ]
  },
  {
   "cell_type": "markdown",
   "id": "d5494e3d-4900-4950-bb4c-a19f0c289991",
   "metadata": {},
   "source": [
    "- Group `air_force` by `\"gender\"` and calculate the sum of the `\"count\"`s."
   ]
  },
  {
   "cell_type": "code",
   "execution_count": null,
   "id": "6a1e14a8-5f77-4cc9-9540-1404df7c9521",
   "metadata": {},
   "outputs": [],
   "source": [
    "# Group air_force by gender and calculate the total count\n"
   ]
  },
  {
   "cell_type": "markdown",
   "id": "3e57029d-bab4-4e39-b91b-121ca4a03702",
   "metadata": {},
   "source": [
    "Let's visualize these total counts using a bar plot. Plotly prefers to have all variables in the plot as columns in the dataframe, so we need an additional step of reseting the index."
   ]
  },
  {
   "cell_type": "markdown",
   "id": "714959f4-9b1a-4810-b41b-f440ff7c9267",
   "metadata": {},
   "source": [
    "- Copy and paste the previous code, then reset the index and assign to `total_counts_by_gender`."
   ]
  },
  {
   "cell_type": "code",
   "execution_count": null,
   "id": "1deb5be3-2466-4d59-bbd4-1b02b26dbbdd",
   "metadata": {},
   "outputs": [],
   "source": [
    "# Redo the previous analysis, then reset the index.\n",
    "total_counts_by_gender = \n",
    "\n",
    "# See the result\n",
    "total_counts_by_gender"
   ]
  },
  {
   "cell_type": "markdown",
   "id": "9069e24f-ee58-45a2-b3bd-0a0584d017d2",
   "metadata": {},
   "source": [
    "- Using `total_counts_by_gender`, draw a bar plot of `count` versus `gender`."
   ]
  },
  {
   "cell_type": "code",
   "execution_count": null,
   "id": "08cf72c2-1620-444a-9857-9f674114fc50",
   "metadata": {},
   "outputs": [],
   "source": [
    "# Using total_counts_by_gender, draw a bar plot of count versus gender\n"
   ]
  },
  {
   "cell_type": "markdown",
   "id": "b6ced3c9-849d-4f75-ae1c-f36cbabac55b",
   "metadata": {},
   "source": [
    "Bar plots work with vertical or horizontal bars (and often horizontal bars make the plot easier to read). Try swapping the x- and y-axes on the previous plot."
   ]
  },
  {
   "cell_type": "markdown",
   "id": "e99c9110-aa04-4454-b1f0-cac71c2a00b0",
   "metadata": {},
   "source": [
    "- Redraw the previous plot with the x- and y-axes swapped."
   ]
  },
  {
   "cell_type": "code",
   "execution_count": null,
   "id": "79ec929d-7a75-4d32-97d7-f448605390c0",
   "metadata": {},
   "outputs": [],
   "source": [
    "# Redraw the previous plot with the axes swapped\n"
   ]
  },
  {
   "cell_type": "markdown",
   "id": "9f12b2ca-8c14-48a2-8f33-c8f0899dbb32",
   "metadata": {},
   "source": [
    "## 5: Your turn! How much data do we have by race?"
   ]
  },
  {
   "cell_type": "markdown",
   "id": "4391f572-3597-41ab-88c7-944d7b356fbc",
   "metadata": {},
   "source": [
    "See if you can repeat the total count analysis, this time breaking down the data by race."
   ]
  },
  {
   "cell_type": "markdown",
   "id": "87dbe25b-25a6-4254-8458-a44d0204bed1",
   "metadata": {},
   "source": [
    "- Calculate the total count of personnel by race.\n",
    "- Draw a bar plot of the counts by race."
   ]
  },
  {
   "cell_type": "code",
   "execution_count": null,
   "id": "aabb2117-7400-4a3e-b5ad-1cfd13fbbefb",
   "metadata": {},
   "outputs": [],
   "source": [
    "# Calculate the total count of personnel by race\n",
    "total_counts_by_race = \n",
    "    \n",
    "\n",
    "# Draw a bar plot of the counts by race\n"
   ]
  },
  {
   "cell_type": "markdown",
   "id": "69d5ece9-aaa1-4019-b13f-87f483301f8a",
   "metadata": {},
   "source": [
    "- Optional bonus task: the bar plot is easier to read if the bars are shown in order from longest to shortest. Sort the values of the counts and redraw the plot."
   ]
  },
  {
   "cell_type": "code",
   "execution_count": null,
   "id": "8f3dd922-c348-448f-a5fd-233f47bfbe6f",
   "metadata": {},
   "outputs": [],
   "source": [
    "# Sort the counts from largest to smallest and redraw the bar plot\n"
   ]
  },
  {
   "cell_type": "markdown",
   "id": "582074e0-4a04-4df9-bd0e-ee3cf10610cd",
   "metadata": {},
   "source": [
    "## 6: Exploring the highest paygrades by group"
   ]
  },
  {
   "cell_type": "markdown",
   "id": "7071e2eb-c016-491c-aae2-aecb9d7b9c25",
   "metadata": {},
   "source": [
    "Let's take a look at the highest paygrades of personnel for different groups. These questions are easiest to answer if we first sort the dataset by the values of paygrade, then filter the dataset for rows where the count is positive."
   ]
  },
  {
   "cell_type": "markdown",
   "id": "f013fbdd-37c3-4a26-b83e-ab33d6a51203",
   "metadata": {},
   "source": [
    "- Sort `air_force` by the values of `paygrade`.\n",
    "- Query for rows where the count is greater than zero.\n",
    "- Assign the result with no zero counts to `airforce_nz`."
   ]
  },
  {
   "cell_type": "code",
   "execution_count": null,
   "id": "b73a4611-c4c0-45e6-b7a9-59de5ed09a07",
   "metadata": {},
   "outputs": [],
   "source": [
    "# Sort air_force by the values of paygrade, and query for positive counts\n",
    "air_force_nz = \n"
   ]
  },
  {
   "cell_type": "markdown",
   "id": "b82bb7f2-6d5a-4c73-bfdd-52deb58ba542",
   "metadata": {},
   "source": [
    "Now we can start answering questions. Let's find what the highest paygrade a female had. Since the dataset is sorted by paygrade, it's the last row of the dataset containing females."
   ]
  },
  {
   "cell_type": "markdown",
   "id": "8860f1df-646f-4317-a7af-e508fe0fd6c1",
   "metadata": {},
   "source": [
    "- Using `airforce_nz`, query for rows where `gender` is equal to `\"FEMALE\"`.\n",
    "- Get the \"tail\" (last row) of the results."
   ]
  },
  {
   "cell_type": "code",
   "execution_count": null,
   "id": "90497a1d-eb42-4171-8b45-bc6bce22b0bd",
   "metadata": {},
   "outputs": [],
   "source": [
    "# Find the row with the female with the highest paygrade\n"
   ]
  },
  {
   "cell_type": "markdown",
   "id": "dbac252f-40d8-42ff-b2a6-ce70b8f1a13c",
   "metadata": {},
   "source": [
    "Your turn. What is the highest paygrade that anyone hispanic had?"
   ]
  },
  {
   "cell_type": "code",
   "execution_count": null,
   "id": "d69c0b15-77de-4922-94d3-4ae79dd3069a",
   "metadata": {},
   "outputs": [],
   "source": [
    "# Find the row with the hispanic with the highest paygrade\n"
   ]
  },
  {
   "cell_type": "markdown",
   "id": "b6f20bd6-f2f0-4f6c-924d-440421172a1b",
   "metadata": {},
   "source": [
    "## 7: What's the distribution of paygrades?"
   ]
  },
  {
   "cell_type": "markdown",
   "id": "15dd3459-84eb-45aa-8934-5ce74f127015",
   "metadata": {},
   "source": [
    "Let's take a look at the distribution of paygrades. This time, it's easier to visualize using a line plot."
   ]
  },
  {
   "cell_type": "markdown",
   "id": "425b71a1-f60c-4f56-bb1d-d740487eb936",
   "metadata": {},
   "source": [
    "- Calculate the total count by paygrade. Assign to `total_counts_by_paygrade`.\n",
    "- Using `total_counts_by_paygrade`, draw a line plot of `count` versus `paygrade`."
   ]
  },
  {
   "cell_type": "code",
   "execution_count": null,
   "id": "ccab4b57-9609-4457-8855-eca515fc42ca",
   "metadata": {},
   "outputs": [],
   "source": [
    "# Calculate the total count by paygrade\n",
    "total_counts_by_paygrade = \n",
    "\n",
    "# Draw a line plot of count vs. paygrade\n"
   ]
  },
  {
   "cell_type": "code",
   "execution_count": null,
   "id": "238e14ef-f4fb-4594-9f84-7fa916badc0b",
   "metadata": {},
   "outputs": [],
   "source": []
  }
 ],
 "metadata": {
  "colab": {
   "name": "Welcome to DataCamp Workspaces.ipynb",
   "provenance": []
  },
  "kernelspec": {
   "display_name": "Python 3 (ipykernel)",
   "language": "python",
   "name": "python3"
  },
  "language_info": {
   "codemirror_mode": {
    "name": "ipython",
    "version": 3
   },
   "file_extension": ".py",
   "mimetype": "text/x-python",
   "name": "python",
   "nbconvert_exporter": "python",
   "pygments_lexer": "ipython3",
   "version": "3.8.10"
  }
 },
 "nbformat": 4,
 "nbformat_minor": 5
}
